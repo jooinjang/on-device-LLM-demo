{
    "cells": [
        {
            "cell_type": "markdown",
            "metadata": {},
            "source": [
                "### OpenAI 설정"
            ]
        },
        {
            "cell_type": "code",
            "execution_count": 3,
            "metadata": {},
            "outputs": [],
            "source": [
                "from openai import OpenAI\n",
                "import os\n",
                "\n",
                "client = OpenAI(\n",
                "    api_key=os.getenv(\"OPENAI_API_KEY\")\n",
                "    )"
            ]
        },
        {
            "cell_type": "code",
            "execution_count": 7,
            "metadata": {},
            "outputs": [],
            "source": [
                "translation_system_prompt = '''\n",
                "You are a professional translator, fluent in both English and Korean.\n",
                "Your goal is to translate the following 10 sentences from English to Korean.\n",
                "You will be provided with a list of 10 English sentences, and you will output a json object containing the Korean translation of each sentence.\n",
                "\n",
                "{\n",
                "    sentences_en: string[] // Array of 10 English sentences\n",
                "    sentences_ko: string[] // Array of 10 Korean translations of the English sentences\n",
                "}\n",
                "\n",
                "Please produce translations that read naturally in Korean. Use polite, standard Korean (존댓말) and maintain the original context as much as possible.\n",
                "'''"
            ]
        },
        {
            "cell_type": "markdown",
            "metadata": {},
            "source": [
                "### OpenAI API 테스트"
            ]
        },
        {
            "cell_type": "code",
            "execution_count": 39,
            "metadata": {},
            "outputs": [],
            "source": [
                "def get_translated_sentences(sentences_en):\n",
                "    response = client.chat.completions.create(\n",
                "        model=\"gpt-4o-mini\",\n",
                "        temperature=0.7,\n",
                "        response_format={\n",
                "            \"type\": \"json_object\",\n",
                "        },\n",
                "        messages=[\n",
                "            {\n",
                "                \"role\": \"system\",\n",
                "                \"content\": translation_system_prompt,\n",
                "            },\n",
                "            {\n",
                "                \"role\": \"user\",\n",
                "                \"content\": sentences_en,\n",
                "            },\n",
                "        ]\n",
                "    )\n",
                "\n",
                "    return response.choices[0].message.content"
            ]
        },
        {
            "cell_type": "code",
            "execution_count": 40,
            "metadata": {},
            "outputs": [
                {
                    "name": "stdout",
                    "output_type": "stream",
                    "text": [
                        "                                            english\n",
                        "0                                   Serious people.\n",
                        "1                            Could i say something?\n",
                        "2                              I have your daughter\n",
                        "3                       What are we supposed to do?\n",
                        "4  They're not even sure that he knows how to talk.\n"
                    ]
                }
            ],
            "source": [
                "import pandas as pd\n",
                "\n",
                "# Load the CSV file\n",
                "file_path = '../../datasets/csv/combined_ko_sampled300k.csv'\n",
                "df = pd.read_csv(file_path)\n",
                "\n",
                "# Display the first few rows of the dataframe\n",
                "print(df.head())"
            ]
        },
        {
            "cell_type": "code",
            "execution_count": 41,
            "metadata": {},
            "outputs": [
                {
                    "data": {
                        "text/plain": [
                            "['Serious people.', 'Could i say something?', 'I have your daughter']"
                        ]
                    },
                    "execution_count": 41,
                    "metadata": {},
                    "output_type": "execute_result"
                }
            ],
            "source": [
                "sentences_en = df['english'].tolist()\n",
                "sentences_en[:3]"
            ]
        },
        {
            "cell_type": "code",
            "execution_count": 42,
            "metadata": {},
            "outputs": [
                {
                    "name": "stdout",
                    "output_type": "stream",
                    "text": [
                        "{\n",
                        "    \"sentences_en\": [\n",
                        "        \"Sugar is an essential energy source of the brain and...\",\n",
                        "        \"Take some cheese, it's good.\",\n",
                        "        \"I really want to lose my inhibitions. You know, be able to talk to strangers. Break the ice.\",\n",
                        "        \"Well, okay, then.\",\n",
                        "        \"I need to get out of here.\",\n",
                        "        \"I want to do it... there.\",\n",
                        "        \"It is all I can do to keep you alive!\",\n",
                        "        \"But I couldn't say no.\",\n",
                        "        \"I got a hundred bucks if you can be here in five. Thanks.\",\n",
                        "        \"Sometimes it's hard to tell.\"\n",
                        "    ],\n",
                        "    \"sentences_ko\": [\n",
                        "        \"당은 뇌의 필수적인 에너지원입니다...\",\n",
                        "        \"치즈 좀 드세요, 맛있어요.\",\n",
                        "        \"저는 정말로 제 억제를 없애고 싶어요. 아시죠, 낯선 사람과 이야기할 수 있게요. 분위기를 깨고 싶어요.\",\n",
                        "        \"그럼, 알겠어요.\",\n",
                        "        \"저는 여기서 나가야 해요.\",\n",
                        "        \"저는 거기서 하고 싶어요.\",\n",
                        "        \"당신을 살리는 것이 제가 할 수 있는 전부입니다!\",\n",
                        "        \"하지만 거절할 수는 없었어요.\",\n",
                        "        \"5분 안에 여기 올 수 있다면 100달러 드릴게요. 감사합니다.\",\n",
                        "        \"가끔은 판단하기가 어렵습니다.\"\n",
                        "    ]\n",
                        "}\n"
                    ]
                }
            ],
            "source": [
                "result = get_translated_sentences('\\n'.join(sentences_en[20:30]))\n",
                "print(result)"
            ]
        },
        {
            "cell_type": "markdown",
            "metadata": {},
            "source": [
                "### batch 데이터 준비"
            ]
        },
        {
            "cell_type": "code",
            "execution_count": 43,
            "metadata": {},
            "outputs": [
                {
                    "data": {
                        "text/plain": [
                            "[\"Serious people.\\nCould i say something?\\nI have your daughter\\nWhat are we supposed to do?\\nThey're not even sure that he knows how to talk.\\nHow long until the scanners are back online?\\nNow, will you get the luggage off immediately and take it straight to our rooms?\\n-What does that mean?\\nJohnny, it's seven and a half.\\nHe'll get himself killed.\",\n",
                            " 'My lord the Prince Alexandre de Grasillac de Morvan Lebro!\\nOn the Enterprise, our condition is rapidly worsening.\\nThis is the \"young little white girl with the big black guys\" scene.\\nLike you did with us.\\nThere was one man who could tilt the balance. - Greetings, Pashabhai.\\nQuickly! - Hurry!\\nAnd where does the boss man sit?\\n- They told you about that, huh?\\nGod, please save me\\nGlienicke Bridge.',\n",
                            " \"Sugar is an essential energy source of the brain and...\\n- Take some cheese, it's good.\\nI really want to lose my inhibitions. You know, be able to talk to strangers. Break the ice.\\nWell, okay, then.\\nI need to get out of here.\\nI want to do it... there.\\nIt is all I can do to keep you alive!\\nBut I couldn't say no.\\nI got a hundred bucks if you can be here in five. Thanks.\\nSometimes it's hard to tell.\"]"
                        ]
                    },
                    "execution_count": 43,
                    "metadata": {},
                    "output_type": "execute_result"
                }
            ],
            "source": [
                "sentence_list = []\n",
                "for i in range(0, len(sentences_en), 10):\n",
                "    sentence_list.append(\"\\n\".join(sentences_en[i:i+10]))\n",
                "\n",
                "sentence_list[:3]"
            ]
        },
        {
            "cell_type": "code",
            "execution_count": 44,
            "metadata": {},
            "outputs": [],
            "source": [
                "tasks = []\n",
                "\n",
                "for idx, sentence10_en in enumerate(sentence_list):\n",
                "    task = {\n",
                "        \"custom_id\": f\"task-{idx}\",\n",
                "        \"method\": \"POST\",\n",
                "        \"url\": \"/v1/chat/completions\",\n",
                "        \"body\": {\n",
                "            \"model\": \"gpt-4o-mini\",\n",
                "            \"temperature\": 0.7,\n",
                "            \"response_format\": {\n",
                "                \"type\": \"json_object\",\n",
                "            },\n",
                "            \"messages\": [\n",
                "                {\n",
                "                    \"role\": \"system\",\n",
                "                    \"content\": translation_system_prompt,\n",
                "                },\n",
                "                {\n",
                "                    \"role\": \"user\",\n",
                "                    \"content\": sentence10_en,\n",
                "                },\n",
                "            ]\n",
                "        }\n",
                "    }\n",
                "    tasks.append(task)\n",
                "    "
            ]
        },
        {
            "cell_type": "code",
            "execution_count": 45,
            "metadata": {},
            "outputs": [
                {
                    "data": {
                        "text/plain": [
                            "{'custom_id': 'task-0',\n",
                            " 'method': 'POST',\n",
                            " 'url': '/v1/chat/completions',\n",
                            " 'body': {'model': 'gpt-4o-mini',\n",
                            "  'temperature': 0.7,\n",
                            "  'response_format': {'type': 'json_object'},\n",
                            "  'messages': [{'role': 'system',\n",
                            "    'content': '\\nYou are a professional translator, fluent in both English and Korean.\\nYour goal is to translate the following 10 sentences from English to Korean.\\nYou will be provided with a list of 10 English sentences, and you will output a json object containing the Korean translation of each sentence.\\n\\n{\\n    sentences_en: string[] // Array of 10 English sentences\\n    sentences_ko: string[] // Array of 10 Korean translations of the English sentences\\n}\\n\\nPlease produce translations that read naturally in Korean. Use polite, standard Korean (존댓말) and maintain the original context as much as possible.\\n'},\n",
                            "   {'role': 'user',\n",
                            "    'content': \"Serious people.\\nCould i say something?\\nI have your daughter\\nWhat are we supposed to do?\\nThey're not even sure that he knows how to talk.\\nHow long until the scanners are back online?\\nNow, will you get the luggage off immediately and take it straight to our rooms?\\n-What does that mean?\\nJohnny, it's seven and a half.\\nHe'll get himself killed.\"}]}}"
                        ]
                    },
                    "execution_count": 45,
                    "metadata": {},
                    "output_type": "execute_result"
                }
            ],
            "source": [
                "tasks[0]"
            ]
        },
        {
            "cell_type": "markdown",
            "metadata": {},
            "source": [
                "### batch 파일 업로드"
            ]
        },
        {
            "cell_type": "code",
            "execution_count": 47,
            "metadata": {},
            "outputs": [],
            "source": [
                "import json\n",
                "\n",
                "file_name = \"../../batch_file/batch_en-ko_translation.jsonl\"\n",
                "with open(file_name, \"w\") as file:\n",
                "    for obj in tasks:\n",
                "        file.write(json.dumps(obj) + \"\\n\")"
            ]
        },
        {
            "cell_type": "code",
            "execution_count": 48,
            "metadata": {},
            "outputs": [],
            "source": [
                "batch_file = client.files.create(\n",
                "    file=open(file_name, \"rb\"),\n",
                "    purpose=\"batch\"\n",
                ")"
            ]
        },
        {
            "cell_type": "code",
            "execution_count": 51,
            "metadata": {},
            "outputs": [
                {
                    "name": "stdout",
                    "output_type": "stream",
                    "text": [
                        "FileObject(id='file-Pk9ui24823feWhd8bjykR8', bytes=47254016, created_at=1735041657, filename='batch_en-ko_translation.jsonl', object='file', purpose='batch', status='processed', status_details=None)\n"
                    ]
                }
            ],
            "source": [
                "print(batch_file)"
            ]
        },
        {
            "cell_type": "markdown",
            "metadata": {},
            "source": [
                "### batch 생성"
            ]
        },
        {
            "cell_type": "code",
            "execution_count": 52,
            "metadata": {},
            "outputs": [],
            "source": [
                "batch_job = client.batches.create(\n",
                "    input_file_id=batch_file.id,\n",
                "    endpoint=\"/v1/chat/completions\",\n",
                "    completion_window=\"24h\"\n",
                ")"
            ]
        },
        {
            "cell_type": "code",
            "execution_count": null,
            "metadata": {},
            "outputs": [],
            "source": [
                "batch_job.id"
            ]
        }
    ],
    "metadata": {
        "kernelspec": {
            "display_name": "unsloth",
            "language": "python",
            "name": "python3"
        },
        "language_info": {
            "codemirror_mode": {
                "name": "ipython",
                "version": 3
            },
            "file_extension": ".py",
            "mimetype": "text/x-python",
            "name": "python",
            "nbconvert_exporter": "python",
            "pygments_lexer": "ipython3",
            "version": "3.12.8"
        }
    },
    "nbformat": 4,
    "nbformat_minor": 2
}
