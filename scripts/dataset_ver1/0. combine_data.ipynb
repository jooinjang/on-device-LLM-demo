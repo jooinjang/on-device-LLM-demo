{
    "cells": [
        {
            "cell_type": "code",
            "execution_count": 16,
            "metadata": {},
            "outputs": [],
            "source": [
                "from huggingface_hub import login\n",
                "\n",
                "login(\"HF_TOKEN\") # use your huggingface token"
            ]
        },
        {
            "cell_type": "code",
            "execution_count": 17,
            "metadata": {},
            "outputs": [
                {
                    "data": {
                        "text/plain": [
                            "22512639"
                        ]
                    },
                    "execution_count": 17,
                    "metadata": {},
                    "output_type": "execute_result"
                }
            ],
            "source": [
                "with open('../../datasets/raw/OpenSubtitles.de-en.en', 'r') as f:\n",
                "    en_lines = f.readlines()\n",
                "\n",
                "en_lines = [line.strip() for line in en_lines]\n",
                "\n",
                "len(en_lines)"
            ]
        },
        {
            "cell_type": "code",
            "execution_count": 18,
            "metadata": {},
            "outputs": [],
            "source": [
                "en_lines = [line for line in en_lines if len(line) >= 100]"
            ]
        },
        {
            "cell_type": "code",
            "execution_count": 19,
            "metadata": {},
            "outputs": [
                {
                    "name": "stdout",
                    "output_type": "stream",
                    "text": [
                        "542637\n"
                    ]
                },
                {
                    "data": {
                        "text/plain": [
                            "[\"Private Kururugi Suzaku of the district 11 military, case 1075, concerning the suspicion of Prince Clovis' murder.\",\n",
                            " 'Apparently on lack of evidence. Well, it looks like he was thoroughly investigated, thanks to that incident with Zero...',\n",
                            " 'Yes, the preparations for the welcoming of the Imperial Princess are being readied in the government office...']"
                        ]
                    },
                    "execution_count": 19,
                    "metadata": {},
                    "output_type": "execute_result"
                }
            ],
            "source": [
                "print(len(en_lines))\n",
                "en_lines[:3]"
            ]
        },
        {
            "cell_type": "code",
            "execution_count": 20,
            "metadata": {},
            "outputs": [
                {
                    "name": "stdout",
                    "output_type": "stream",
                    "text": [
                        "150000\n"
                    ]
                }
            ],
            "source": [
                "import random\n",
                "\n",
                "random.seed(42)\n",
                "sampled_en_lines = random.sample(en_lines, 150000)\n",
                "print(len(sampled_en_lines))"
            ]
        },
        {
            "cell_type": "code",
            "execution_count": 21,
            "metadata": {},
            "outputs": [
                {
                    "data": {
                        "text/plain": [
                            "['Every trade deal I struck was a disaster, every alliance I formed fell apart, every endeavour backed, a failure.',\n",
                            " 'Mandrake, do you realize that in addition to fluoridating the water... there are studies underway to fluoridate salt, flour... fruit juices, soup, sugar, milk, ice cream?',\n",
                            " \"I've seen these blind-date shows on television before but I never actually thought I would go on one.\",\n",
                            " 'I have known occasions when I was studying a message left for me by a friend and he would drag me away by the collar in the middle of the most fascinating passage.',\n",
                            " 'Um...charlie,the truth is... you were a bastard.You were.You were mean and stubborn and just... a bastard.']"
                        ]
                    },
                    "execution_count": 21,
                    "metadata": {},
                    "output_type": "execute_result"
                }
            ],
            "source": [
                "sampled_en_lines[:5]"
            ]
        },
        {
            "cell_type": "code",
            "execution_count": 22,
            "metadata": {},
            "outputs": [],
            "source": [
                "import csv\n",
                "\n",
                "with open('../../datasets/csv/OpenSubtitles_sampled150k.csv', 'w', newline='') as csvfile:\n",
                "    writer = csv.writer(csvfile)\n",
                "    writer.writerow(['english'])\n",
                "    for line in sampled_en_lines:\n",
                "        writer.writerow([line])"
            ]
        },
        {
            "cell_type": "code",
            "execution_count": 23,
            "metadata": {},
            "outputs": [],
            "source": [
                "import pandas as pd\n",
                "import random\n",
                "\n",
                "# Load TED2020_en-ko.csv\n",
                "ted_df = pd.read_csv('../../datasets/csv/TED2020_en-ko.csv')\n",
                "\n",
                "# Extract English sentences\n",
                "ted_en_lines = ted_df['en'].tolist()\n",
                "\n",
                "ted_en_lines = [line for line in ted_en_lines if len(str(line)) >= 30]\n",
                "\n",
                "# Sample 150k lines with seed 42\n",
                "random.seed(42)\n",
                "sampled_ted_en_lines = random.sample(ted_en_lines, 150000)\n",
                "\n",
                "# Create a DataFrame for the sampled TED lines\n",
                "sampled_ted_df = pd.DataFrame(sampled_ted_en_lines, columns=['english'])\n",
                "\n",
                "# Load OpenSubtitles_ko_sampled150k.csv\n",
                "opensub_df = pd.read_csv('../../datasets/csv/OpenSubtitles_sampled150k.csv')\n",
                "\n",
                "# Concatenate the two DataFrames\n",
                "combined_df = pd.concat([opensub_df, sampled_ted_df], ignore_index=True)\n",
                "\n",
                "# Save the combined DataFrame to a new CSV file\n",
                "combined_df.to_csv('../../datasets/csv/combined_sampled300k.csv', index=False)"
            ]
        }
    ],
    "metadata": {
        "kernelspec": {
            "display_name": "train",
            "language": "python",
            "name": "python3"
        },
        "language_info": {
            "codemirror_mode": {
                "name": "ipython",
                "version": 3
            },
            "file_extension": ".py",
            "mimetype": "text/x-python",
            "name": "python",
            "nbconvert_exporter": "python",
            "pygments_lexer": "ipython3",
            "version": "3.12.8"
        }
    },
    "nbformat": 4,
    "nbformat_minor": 2
}
